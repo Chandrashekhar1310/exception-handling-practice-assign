{
 "cells": [
  {
   "cell_type": "markdown",
   "id": "a39b8bf4-b3d2-411d-915f-d379be8085f2",
   "metadata": {},
   "source": [
    "# Q1. Explain why we have to use the Exception class while creating a Custom Exception."
   ]
  },
  {
   "cell_type": "markdown",
   "id": "b50d5ce2-0c97-4ce1-8107-b5e344555940",
   "metadata": {},
   "source": [
    "Exception is the base class for all built-in exceptions in Python, and it provides important functionality for handling and propagating exceptions. For example, when an exception is raised, Python looks for an exception handler that can handle that exception. If a handler isn't found, Python will look for a handler that can handle a superclass of the exception. Since Exception is the base class for all built-in exceptions, it's a good idea to use it as the base class for custom exceptions, as it ensures that the custom exception can be handled in the same way as built-in exceptions."
   ]
  },
  {
   "cell_type": "markdown",
   "id": "43c37e32-2ba8-4ddf-b2bd-5215be980542",
   "metadata": {},
   "source": [
    "# Q2. Write a python program to print Python Exception Hierarchy."
   ]
  },
  {
   "cell_type": "code",
   "execution_count": 4,
   "id": "a9ef6795-429a-41c7-9ebc-a037019acc0a",
   "metadata": {},
   "outputs": [],
   "source": [
    "def print_exceution_hierachy():\n",
    "    for subclass in Exception.__subclasses__():\n",
    "        print(subclass.__name__)\n",
    "        for subsubclass in subclass.__subclasses__():\n",
    "            print(\" \", subsubclass.__name__)\n",
    "            \n",
    "            for subsubsubclass in subclass.__subclasses__():\n",
    "                print(\" \" , subsubsubclass.__name__)\n",
    "    \n",
    "#print_exceution_hierachy()"
   ]
  },
  {
   "cell_type": "markdown",
   "id": "7061c94b-1f18-4121-9344-13412b09318e",
   "metadata": {},
   "source": [
    "# Q3. What errors are defined in the ArithmeticError class? Explain any two with an example."
   ]
  },
  {
   "cell_type": "markdown",
   "id": "ad025f10-f61a-49f3-8619-1d2daf17b679",
   "metadata": {},
   "source": [
    "The ArithmeticError class in Python is the base class for all errors that occur during arithmetic operations. It is a subclass of the Exception class, which means that it can be caught using a try-except block.\n",
    "\n",
    "Some of the errors that are defined in the ArithmeticError class include:\n",
    "\n",
    "ZeroDivisionError: This error is raised when a division or modulo operation is performed on zero. For example:"
   ]
  },
  {
   "cell_type": "code",
   "execution_count": 17,
   "id": "6c13daa1-4403-4976-85ea-fd79a5674adb",
   "metadata": {},
   "outputs": [],
   "source": [
    "import logging\n",
    "logging.basicConfig(filename = 'error.txt' , level = logging.ERROR)\n",
    "a = 5\n",
    "b = 0\n",
    "\n",
    "try:\n",
    "    c = a / b\n",
    "except ZeroDivisionError as e:\n",
    "    logging.error(\"this is zero division error{}\".format(e))\n",
    "    \n",
    "logging.shutdown()\n"
   ]
  },
  {
   "cell_type": "markdown",
   "id": "4a14e85a-2355-44ce-9e9f-286477df4e2c",
   "metadata": {},
   "source": [
    "OverflowError: This error is raised when an arithmetic operation exceeds the maximum limit for a numeric type. For example:"
   ]
  },
  {
   "cell_type": "code",
   "execution_count": 22,
   "id": "abc8311c-a9a2-4704-a5e5-203d69e2a992",
   "metadata": {},
   "outputs": [],
   "source": [
    "import logging\n",
    "logging.basicConfig(filename = 'error.txt' , level = logging.ERROR)\n",
    "import sys\n",
    "\n",
    "x = sys.maxsize  # maximum value for a Python int\n",
    "\n",
    "try:\n",
    "    y = x * x\n",
    "except OverflowError as e:\n",
    "    logging.error(\"integer multiplication result too large for a float{}\".format(e))\n",
    "    \n",
    "logging.shutdown()"
   ]
  },
  {
   "cell_type": "markdown",
   "id": "7fc41fa6-0578-4c77-a62b-835798d0ef22",
   "metadata": {},
   "source": [
    "# Q4. Why LookupError class is used? Explain with an example KeyError and IndexError."
   ]
  },
  {
   "cell_type": "markdown",
   "id": "6b33a444-da5f-44d8-8450-7908c795b9e8",
   "metadata": {},
   "source": [
    "The LookupError class is used as a base class for exceptions that occur when a specified key or index cannot be found in a collection such as a list or dictionary. It is a subclass of the Exception class, which means that it can be caught using a try-except block.\n",
    "\n",
    "Two common subclasses of the LookupError class in Python are KeyError and IndexError.\n",
    "\n",
    "KeyError is raised when a key is not found in a dictionary, while IndexError is raised when an index is not found in a sequence like a list.\n",
    "\n",
    "Here's an example of how KeyError can be raised:"
   ]
  },
  {
   "cell_type": "code",
   "execution_count": 23,
   "id": "c28ce304-4a89-488d-ae5f-8e2b9a0011c5",
   "metadata": {},
   "outputs": [],
   "source": [
    "import logging\n",
    "logging.basicConfig(filename = 'error.txt' , level = logging.ERROR)\n",
    "\n",
    "my_dict = {'a': 1, 'b': 2, 'c': 3}\n",
    "\n",
    "try:\n",
    "    value = my_dict['d']\n",
    "except KeyError as e:\n",
    "    logging.error(\"there is a key error{}\".format(e))\n",
    "    \n",
    "logging.shutdown()\n",
    "    \n"
   ]
  },
  {
   "cell_type": "markdown",
   "id": "1492640c-5e6e-47c9-86e9-e357c7834f0c",
   "metadata": {},
   "source": [
    "Here's an example of how IndexError can be raised:"
   ]
  },
  {
   "cell_type": "code",
   "execution_count": 27,
   "id": "54f3d215-ac63-49ea-9fad-4638af44e706",
   "metadata": {},
   "outputs": [],
   "source": [
    "import logging\n",
    "logging.basicConfig(filename = 'error.txt' , level = logging.ERROR)\n",
    "\n",
    "my_list = [1, 2, 3]\n",
    "\n",
    "try:\n",
    "    value = my_list[3]\n",
    "except IndexError as e:\n",
    "    logging.error(\"there is a index error{}\".format(e))\n",
    "logging.shutdown()\n",
    "    \n"
   ]
  },
  {
   "cell_type": "markdown",
   "id": "fe753351-7049-4e0a-903e-f98dd53bc01f",
   "metadata": {},
   "source": [
    "# Q5. Explain ImportError. What is ModuleNotFoundError?"
   ]
  },
  {
   "cell_type": "markdown",
   "id": "a5617b06-56d2-4686-b6dc-97bbcd6c6284",
   "metadata": {},
   "source": [
    "ImportError is an exception that is raised when an import statement fails to find the specified module or when a module fails to load for some reason.\n",
    "\n",
    "There can be many reasons for an ImportError to occur. For example, the module may not be installed, it may be located in the wrong directory, or there may be syntax errors in the module's code.\n",
    "\n",
    "Here's an example of how ImportError can be raised:"
   ]
  },
  {
   "cell_type": "code",
   "execution_count": 28,
   "id": "6e2e7a11-0425-4d3f-9fd1-6200b5c1923c",
   "metadata": {},
   "outputs": [
    {
     "name": "stdout",
     "output_type": "stream",
     "text": [
      "Error: No module named 'non_existent_module'\n"
     ]
    }
   ],
   "source": [
    "try:\n",
    "    import non_existent_module\n",
    "except ImportError as error:\n",
    "    print(\"Error:\", error)\n"
   ]
  },
  {
   "cell_type": "markdown",
   "id": "710ad0be-0b79-488f-a7d6-3b5cc8bdc2ab",
   "metadata": {},
   "source": [
    "ModuleNotFoundError is a subclass of ImportError. It is raised when a module is not found in any of the specified locations.\n",
    "\n",
    "Here's an example of how ModuleNotFoundError can be raised:"
   ]
  },
  {
   "cell_type": "code",
   "execution_count": 29,
   "id": "afcbd56a-463e-492d-b5ef-e725b3e101f4",
   "metadata": {},
   "outputs": [
    {
     "name": "stdout",
     "output_type": "stream",
     "text": [
      "Error: No module named 'non_existent_module'\n"
     ]
    }
   ],
   "source": [
    "try:\n",
    "    import non_existent_module\n",
    "except ModuleNotFoundError as error:\n",
    "    print(\"Error:\", error)\n"
   ]
  },
  {
   "cell_type": "markdown",
   "id": "f24e5cda-b6f4-4081-8ee5-86f152da4574",
   "metadata": {},
   "source": [
    "# Q6. List down some best practices for exception handling in python."
   ]
  },
  {
   "cell_type": "markdown",
   "id": "28e895df-3c17-4439-baa4-ddaab79890ed",
   "metadata": {},
   "source": [
    "Exception handling is an important aspect of writing robust and reliable Python code. Here are some best practices for exception handling in Python:\n",
    "\n",
    "1. Catch specific exceptions: Catch only the specific exceptions that you expect and handle them appropriately. This ensures that you do not accidentally catch and suppress other exceptions that you did not intend to handle.\n",
    "\n",
    "2. Use finally blocks: Use finally blocks to ensure that any resources that were opened or acquired are properly closed or released, regardless of whether an exception was raised.\n",
    "\n",
    "3. Don't catch Exception: Avoid using except Exception: to catch all exceptions, as this can mask important errors and make debugging more difficult.\n",
    "\n",
    "4. Avoid silent failures: Avoid silently catching exceptions without logging or reporting the error in some way. This can lead to hard-to-find bugs and make troubleshooting more difficult.\n",
    "\n",
    "5. Don't overuse try-except blocks: Use try-except blocks sparingly and only for code that is likely to raise an exception. Don't use them for normal control flow or to replace simple conditional statements.\n",
    "\n",
    "6. Use built-in functions: Use built-in functions like assert and raise to raise exceptions when appropriate. This makes your code more readable and helps catch errors earlier."
   ]
  },
  {
   "cell_type": "code",
   "execution_count": null,
   "id": "9bc5ab7a-fbfc-437f-8afe-68bd134e8267",
   "metadata": {},
   "outputs": [],
   "source": []
  }
 ],
 "metadata": {
  "kernelspec": {
   "display_name": "Python 3 (ipykernel)",
   "language": "python",
   "name": "python3"
  },
  "language_info": {
   "codemirror_mode": {
    "name": "ipython",
    "version": 3
   },
   "file_extension": ".py",
   "mimetype": "text/x-python",
   "name": "python",
   "nbconvert_exporter": "python",
   "pygments_lexer": "ipython3",
   "version": "3.10.8"
  }
 },
 "nbformat": 4,
 "nbformat_minor": 5
}
